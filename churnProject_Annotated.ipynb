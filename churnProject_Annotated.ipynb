{
 "cells": [
  {
   "cell_type": "markdown",
   "id": "f819fc25-94f5-47f5-a3d8-7e977a44f745",
   "metadata": {},
   "source": [
    "# Churn Portfolio Project: Data Cleaning and Initial Exploration\n",
    "## by Josh Murray\n",
    "*https://github.com/jcmurray89/portfolioChurn.git*"
   ]
  },
  {
   "cell_type": "markdown",
   "id": "d56e60c0-1d6e-4f87-903c-59727a18edfa",
   "metadata": {},
   "source": [
    "## Initial Setup and Data Exploration"
   ]
  },
  {
   "cell_type": "markdown",
   "id": "d912f59f-8ca9-4605-b4ac-b1c10427e157",
   "metadata": {},
   "source": [
    "**Scenario**\n",
    "This is reviewing a dataset from Kaggle showing customer accounts at an e-commerce site, several stats related to the account for the previous month's activity, and whether or not they have cancelled in the past month, aka, \"churned\". \n",
    "\n",
    "\"Churn\" or not is a boolean target we will analyze. \n",
    "\n",
    "**Data:**\n",
    "\n",
    "From: \r\n",
    "https://www.kaggle.com/datasets/samuelsemaya/e-commerce-customer-churn\r\n",
    "\r\n",
    "by Samuel Semaya · Updated 22 days \"go as of 8/28,/ therefore on 8/6/24\r\n",
    "\r\n",
    "Features\r\n",
    "- Tenure: Tenure of a customer in the company (numeric)\r\n",
    "- WarehouseToHome: Distance between the warehouse to the customer's home (numeric)\r\n",
    "- NumberOfDeviceRegistered: Total number of devices registered to a particular customer (numeric)\r\n",
    "- PreferedOrderCat: Preferred order category of a customer in the last month (categorical)\r\n",
    "- SatisfactionScore: Satisfactory score of a customer on service (numeric)\r\n",
    "- MaritalStatus: Marital status of a customer (categorical)\r\n",
    "- NumberOfAddress: Total number of addresses added for a particular customer (numeric)\r\n",
    "- Complaint: Whether any complaint has been raised in the last month (binary)\r\n",
    "- DaySinceLastOrder: Days since last order by customer (numeric)\r\n",
    "- CashbackAmount: Average cashback in last month (n:meric)\r\n",
    "- Churn: Churn flag target vriable, binary)\n"
   ]
  },
  {
   "cell_type": "markdown",
   "id": "b966a96c-b312-43b2-ba44-ebb33fe3cffe",
   "metadata": {},
   "source": [
    "### Setup"
   ]
  },
  {
   "cell_type": "markdown",
   "id": "c0d27b46-e384-45a2-a06b-86740e989921",
   "metadata": {},
   "source": [
    "Import necessary libraries, read in the data as a pandas dataframe, and review the first few rows. "
   ]
  },
  {
   "cell_type": "code",
   "execution_count": 48,
   "id": "15369eb3-63ad-4cb2-bd10-99338a2b0d65",
   "metadata": {},
   "outputs": [],
   "source": [
    "import pandas as pd\n",
    "import warnings\n",
    "warnings.filterwarnings('ignore')"
   ]
  },
  {
   "cell_type": "code",
   "execution_count": 50,
   "id": "e3fb0818-bc6b-4db7-99d6-f0accaba7f41",
   "metadata": {},
   "outputs": [
    {
     "data": {
      "text/html": [
       "<div>\n",
       "<style scoped>\n",
       "    .dataframe tbody tr th:only-of-type {\n",
       "        vertical-align: middle;\n",
       "    }\n",
       "\n",
       "    .dataframe tbody tr th {\n",
       "        vertical-align: top;\n",
       "    }\n",
       "\n",
       "    .dataframe thead th {\n",
       "        text-align: right;\n",
       "    }\n",
       "</style>\n",
       "<table border=\"1\" class=\"dataframe\">\n",
       "  <thead>\n",
       "    <tr style=\"text-align: right;\">\n",
       "      <th></th>\n",
       "      <th>Tenure</th>\n",
       "      <th>WarehouseToHome</th>\n",
       "      <th>NumberOfDeviceRegistered</th>\n",
       "      <th>PreferedOrderCat</th>\n",
       "      <th>SatisfactionScore</th>\n",
       "      <th>MaritalStatus</th>\n",
       "      <th>NumberOfAddress</th>\n",
       "      <th>Complain</th>\n",
       "      <th>DaySinceLastOrder</th>\n",
       "      <th>CashbackAmount</th>\n",
       "      <th>Churn</th>\n",
       "    </tr>\n",
       "  </thead>\n",
       "  <tbody>\n",
       "    <tr>\n",
       "      <th>0</th>\n",
       "      <td>15.0</td>\n",
       "      <td>29.0</td>\n",
       "      <td>4</td>\n",
       "      <td>Laptop &amp; Accessory</td>\n",
       "      <td>3</td>\n",
       "      <td>Single</td>\n",
       "      <td>2</td>\n",
       "      <td>0</td>\n",
       "      <td>7.0</td>\n",
       "      <td>143.32</td>\n",
       "      <td>0</td>\n",
       "    </tr>\n",
       "    <tr>\n",
       "      <th>1</th>\n",
       "      <td>7.0</td>\n",
       "      <td>25.0</td>\n",
       "      <td>4</td>\n",
       "      <td>Mobile</td>\n",
       "      <td>1</td>\n",
       "      <td>Married</td>\n",
       "      <td>2</td>\n",
       "      <td>0</td>\n",
       "      <td>7.0</td>\n",
       "      <td>129.29</td>\n",
       "      <td>0</td>\n",
       "    </tr>\n",
       "    <tr>\n",
       "      <th>2</th>\n",
       "      <td>27.0</td>\n",
       "      <td>13.0</td>\n",
       "      <td>3</td>\n",
       "      <td>Laptop &amp; Accessory</td>\n",
       "      <td>1</td>\n",
       "      <td>Married</td>\n",
       "      <td>5</td>\n",
       "      <td>0</td>\n",
       "      <td>7.0</td>\n",
       "      <td>168.54</td>\n",
       "      <td>0</td>\n",
       "    </tr>\n",
       "    <tr>\n",
       "      <th>3</th>\n",
       "      <td>20.0</td>\n",
       "      <td>25.0</td>\n",
       "      <td>4</td>\n",
       "      <td>Fashion</td>\n",
       "      <td>3</td>\n",
       "      <td>Divorced</td>\n",
       "      <td>7</td>\n",
       "      <td>0</td>\n",
       "      <td>NaN</td>\n",
       "      <td>230.27</td>\n",
       "      <td>0</td>\n",
       "    </tr>\n",
       "    <tr>\n",
       "      <th>4</th>\n",
       "      <td>30.0</td>\n",
       "      <td>15.0</td>\n",
       "      <td>4</td>\n",
       "      <td>Others</td>\n",
       "      <td>4</td>\n",
       "      <td>Single</td>\n",
       "      <td>8</td>\n",
       "      <td>0</td>\n",
       "      <td>8.0</td>\n",
       "      <td>322.17</td>\n",
       "      <td>0</td>\n",
       "    </tr>\n",
       "  </tbody>\n",
       "</table>\n",
       "</div>"
      ],
      "text/plain": [
       "   Tenure  WarehouseToHome  NumberOfDeviceRegistered    PreferedOrderCat  \\\n",
       "0    15.0             29.0                         4  Laptop & Accessory   \n",
       "1     7.0             25.0                         4              Mobile   \n",
       "2    27.0             13.0                         3  Laptop & Accessory   \n",
       "3    20.0             25.0                         4             Fashion   \n",
       "4    30.0             15.0                         4              Others   \n",
       "\n",
       "   SatisfactionScore MaritalStatus  NumberOfAddress  Complain  \\\n",
       "0                  3        Single                2         0   \n",
       "1                  1       Married                2         0   \n",
       "2                  1       Married                5         0   \n",
       "3                  3      Divorced                7         0   \n",
       "4                  4        Single                8         0   \n",
       "\n",
       "   DaySinceLastOrder  CashbackAmount  Churn  \n",
       "0                7.0          143.32      0  \n",
       "1                7.0          129.29      0  \n",
       "2                7.0          168.54      0  \n",
       "3                NaN          230.27      0  \n",
       "4                8.0          322.17      0  "
      ]
     },
     "execution_count": 50,
     "metadata": {},
     "output_type": "execute_result"
    }
   ],
   "source": [
    "rough_churn = pd.read_csv(\"C:/Users/joshc/Desktop/CPU Engineer Stuff/Project Datasets/Churn example/CHURN_archive/data_ecommerce_customer_churn.csv\")\n",
    "rough_churn.head()"
   ]
  },
  {
   "cell_type": "markdown",
   "id": "11b3259c-dcd8-41d7-a61b-d77324a69df6",
   "metadata": {},
   "source": [
    "**Questions:**\n",
    "\n",
    "Based on the data above, here are some proposed initial questions for analysis: \n",
    "\n",
    "1. What is the average and median tenure by churn status?\r\n",
    "2. What is the average and median satisfaction score by churn status? \r\n",
    "3. What is the average and median cashback amount by churn status?\r\n",
    "4. What is the average and median distance from the warehouse by churn status?\r\n",
    "5. What are the average and median days since last order by churn status?\r\n",
    "6. What is the % churn based on marital status?\r\n",
    "7. What is the % churn based on preferred order cat\n",
    "\n",
    "Questions 1 - 5 look at numeric data, so we can look at summary statistics. 6-7 relate to categorical data, so we will look at the % churn based on each response. Technically, \"Satisfaction score\" is categorical, as the relative value between 1 and 2 may be different from that between 4 and 5, so it could also be analyzed as a bucket. \n",
    "egory?"
   ]
  },
  {
   "cell_type": "markdown",
   "id": "68fc1057-9e97-459a-9937-49b5904466ff",
   "metadata": {},
   "source": [
    "For simplicity, we have chosen to ignore these factors, so we are removing two columns from the dataframe: "
   ]
  },
  {
   "cell_type": "code",
   "execution_count": 52,
   "id": "a630c322-7dc0-4c00-8c48-29c7e4060979",
   "metadata": {},
   "outputs": [
    {
     "name": "stdout",
     "output_type": "stream",
     "text": [
      "   Tenure  WarehouseToHome    PreferedOrderCat  SatisfactionScore  \\\n",
      "0    15.0             29.0  Laptop & Accessory                  3   \n",
      "\n",
      "  MaritalStatus  Complain  DaySinceLastOrder  CashbackAmount  Churn  \n",
      "0        Single         0                7.0          143.32      0  \n"
     ]
    }
   ],
   "source": [
    "drop_columns = ['NumberOfDeviceRegistered', 'NumberOfAddress']\n",
    "rough_churn = rough_churn.drop(labels = drop_columns, axis = 1)\n",
    "print(rough_churn.head(1))"
   ]
  },
  {
   "cell_type": "markdown",
   "id": "9da37b6d-6387-466f-a0bb-d13c1c393e84",
   "metadata": {},
   "source": [
    "**Fixing Data Types**\n",
    "\n",
    "pd.read_csv() tries to parse the data type, but it is not perfect, so it is important to double-check and make corrections as necessary. The next three blocks are the check before, the change, and the verification after. "
   ]
  },
  {
   "cell_type": "code",
   "execution_count": 12,
   "id": "9f44ddd2-4409-46f6-974f-be9f69c3abdf",
   "metadata": {},
   "outputs": [
    {
     "name": "stdout",
     "output_type": "stream",
     "text": [
      "Tenure               float64\n",
      "WarehouseToHome      float64\n",
      "PreferedOrderCat      object\n",
      "SatisfactionScore      int64\n",
      "MaritalStatus         object\n",
      "Complain               int64\n",
      "DaySinceLastOrder    float64\n",
      "CashbackAmount       float64\n",
      "Churn                  int64\n",
      "dtype: object\n"
     ]
    }
   ],
   "source": [
    "print(rough_churn.dtypes)"
   ]
  },
  {
   "cell_type": "code",
   "execution_count": 56,
   "id": "d9bba62a-3edb-4f20-80b0-48a6d6d4677c",
   "metadata": {},
   "outputs": [],
   "source": [
    "rough_churn['SatisfactionScore'] = rough_churn['SatisfactionScore'].astype('category')\n",
    "rough_churn['Complain'] = rough_churn['Complain'].astype('boolean')\n",
    "rough_churn['Churn'] = rough_churn['Churn'].astype('boolean')"
   ]
  },
  {
   "cell_type": "code",
   "execution_count": 16,
   "id": "848a09dd-b0e4-4e63-9840-5322440852e3",
   "metadata": {},
   "outputs": [
    {
     "name": "stdout",
     "output_type": "stream",
     "text": [
      "Tenure               float64\n",
      "WarehouseToHome      float64\n",
      "PreferedOrderCat      object\n",
      "SatisfactionScore      int64\n",
      "MaritalStatus         object\n",
      "Complain             boolean\n",
      "DaySinceLastOrder    float64\n",
      "CashbackAmount       float64\n",
      "Churn                boolean\n",
      "dtype: object\n"
     ]
    }
   ],
   "source": [
    "print(rough_churn.dtypes)"
   ]
  },
  {
   "cell_type": "markdown",
   "id": "3a9ad19e-28a8-49f6-872c-babb0389f9a1",
   "metadata": {},
   "source": [
    "**Clarifying Column Names**\n",
    "\n",
    "I found some of our column names to be less descriptive than needed, so I have added clarity. Others were too long, I have shortened their labels. Because this is free open-source test data, I have assigned hypothetical units. The project on Kaggle did not specify units. Were this a project in a work environment, we would need to work with subject-matter experts to determine the correct units of tenure and distance to the warehouse, etc. "
   ]
  },
  {
   "cell_type": "code",
   "execution_count": 58,
   "id": "534cdb1b-e7b7-4753-99ca-a6f0e3e8ceba",
   "metadata": {},
   "outputs": [
    {
     "name": "stdout",
     "output_type": "stream",
     "text": [
      "   ActAgeMonths  KmToWarehouse    PreferedOrderCat SatScore MaritalStatus  \\\n",
      "0          15.0           29.0  Laptop & Accessory        3        Single   \n",
      "\n",
      "   Complaint30Days  DaysFromOrder  CashbackAmount  Churn  \n",
      "0            False            7.0          143.32  False  \n"
     ]
    }
   ],
   "source": [
    "new_columns = {\n",
    "    'Tenure': 'ActAgeMonths',\n",
    "\t'WarehouseToHome': 'KmToWarehouse',\n",
    "\t'NumberOfDeviceRegistered': 'DeviceCount',\n",
    "\t'Complain': 'Complaint30Days',\n",
    "\t'DaySinceLastOrder': 'DaysFromOrder',\n",
    "\t'SatisfactionScore': 'SatScore'\n",
    "}\n",
    "churn = rough_churn.rename(mapper = new_columns, axis = 1)\n",
    "print(churn.head(1))"
   ]
  },
  {
   "cell_type": "markdown",
   "id": "e944bd76-a5d7-4f36-a91f-4cd12f95b8b2",
   "metadata": {},
   "source": [
    "**Other Initial Exploration Methods**\n",
    "\n",
    "pd.describe() gives summary values for numerical data. pd.info() gives insight about our values. The non-null counts and data types will be important as we go forward. "
   ]
  },
  {
   "cell_type": "code",
   "execution_count": 20,
   "id": "88f0f0d6-aee3-49bf-afd8-d27d1059a7db",
   "metadata": {},
   "outputs": [
    {
     "name": "stdout",
     "output_type": "stream",
     "text": [
      "       ActAgeMonths  KmToWarehouse     SatScore  DaysFromOrder  CashbackAmount\n",
      "count   3747.000000    3772.000000  3941.000000    3728.000000     3941.000000\n",
      "mean      10.081398      15.650583     3.088302       4.531652      176.707419\n",
      "std        8.498864       8.452301     1.381832       3.667648       48.791784\n",
      "min        0.000000       5.000000     1.000000       0.000000        0.000000\n",
      "25%        2.000000       9.000000     2.000000       2.000000      145.700000\n",
      "50%        9.000000      14.000000     3.000000       3.000000      163.340000\n",
      "75%       16.000000      21.000000     4.000000       7.000000      195.250000\n",
      "max       61.000000     127.000000     5.000000      46.000000      324.990000\n"
     ]
    }
   ],
   "source": [
    "print(churn.describe())"
   ]
  },
  {
   "cell_type": "code",
   "execution_count": 22,
   "id": "1a9a758b-d1ab-4e41-959d-0e1750efb040",
   "metadata": {},
   "outputs": [
    {
     "name": "stdout",
     "output_type": "stream",
     "text": [
      "<class 'pandas.core.frame.DataFrame'>\n",
      "RangeIndex: 3941 entries, 0 to 3940\n",
      "Data columns (total 9 columns):\n",
      " #   Column            Non-Null Count  Dtype  \n",
      "---  ------            --------------  -----  \n",
      " 0   ActAgeMonths      3747 non-null   float64\n",
      " 1   KmToWarehouse     3772 non-null   float64\n",
      " 2   PreferedOrderCat  3941 non-null   object \n",
      " 3   SatScore          3941 non-null   int64  \n",
      " 4   MaritalStatus     3941 non-null   object \n",
      " 5   Complaint30Days   3941 non-null   boolean\n",
      " 6   DaysFromOrder     3728 non-null   float64\n",
      " 7   CashbackAmount    3941 non-null   float64\n",
      " 8   Churn             3941 non-null   boolean\n",
      "dtypes: boolean(2), float64(4), int64(1), object(2)\n",
      "memory usage: 231.0+ KB\n",
      "None\n"
     ]
    }
   ],
   "source": [
    "print(churn.info())"
   ]
  },
  {
   "cell_type": "markdown",
   "id": "7cc8fd13-211e-4cef-b03b-677a6aaac09d",
   "metadata": {},
   "source": [
    "The \"shape\" method displays the (rows, columns) in a dataframe. "
   ]
  },
  {
   "cell_type": "code",
   "execution_count": 184,
   "id": "b5f73f5b-5ea9-46b9-bb8e-dac0a8c555fa",
   "metadata": {},
   "outputs": [
    {
     "name": "stdout",
     "output_type": "stream",
     "text": [
      "(3941, 10)\n"
     ]
    }
   ],
   "source": [
    "print(churn.shape)"
   ]
  },
  {
   "cell_type": "markdown",
   "id": "59f81d0e-8431-42e6-adcc-5fbd559c1092",
   "metadata": {},
   "source": [
    "Finally, creating an index column: "
   ]
  },
  {
   "cell_type": "code",
   "execution_count": 60,
   "id": "17a84b4d-0dbe-4710-b0a3-73f1a850e8af",
   "metadata": {
    "scrolled": true
   },
   "outputs": [
    {
     "name": "stdout",
     "output_type": "stream",
     "text": [
      "   index  ActAgeMonths  KmToWarehouse    PreferedOrderCat SatScore  \\\n",
      "0      0          15.0           29.0  Laptop & Accessory        3   \n",
      "1      1           7.0           25.0              Mobile        1   \n",
      "2      2          27.0           13.0  Laptop & Accessory        1   \n",
      "\n",
      "  MaritalStatus  Complaint30Days  DaysFromOrder  CashbackAmount  Churn  \n",
      "0        Single            False            7.0          143.32  False  \n",
      "1       Married            False            7.0          129.29  False  \n",
      "2       Married            False            7.0          168.54  False  \n"
     ]
    }
   ],
   "source": [
    "churn = churn.reset_index()\n",
    "print(churn.head(3))"
   ]
  },
  {
   "cell_type": "markdown",
   "id": "e3777d32-a469-4b38-8864-2aeee4290870",
   "metadata": {},
   "source": [
    "### Analysis\n",
    "\n",
    "**Numeric Data Questions:**\n",
    "\n",
    "Question 1: What is the average and median tenure by churn status?"
   ]
  },
  {
   "cell_type": "code",
   "execution_count": 62,
   "id": "090a2e18-4e2a-4f9c-8c50-3bb3cb4652a2",
   "metadata": {},
   "outputs": [
    {
     "name": "stdout",
     "output_type": "stream",
     "text": [
      "      ActAgeMonths                 \n",
      "              mean median       std\n",
      "Churn                              \n",
      "False    11.427160   10.0  8.347744\n",
      "True      3.160656    1.0  5.306107\n"
     ]
    }
   ],
   "source": [
    "# Select just the columns we need, then group, then aggregate: \n",
    "tenure = churn[['ActAgeMonths','Churn']]\n",
    "tenure_stats = tenure.groupby('Churn').agg({'ActAgeMonths':['mean','median', 'std']})\n",
    "print(tenure_stats)"
   ]
  },
  {
   "cell_type": "markdown",
   "id": "19b4e4f3-9f76-44ac-83dd-9663ff916619",
   "metadata": {},
   "source": [
    "2. What is the average and median satisfaction score by churn status?\r\n",
    "3. What is the average and median cashback amount by churn status?\r\n",
    "4. What is the average and median distance from the warehouse by churn status?\r\n",
    "5. What are the average and median days since last order by churn status?\n",
    "\n",
    "Rinse and repeat for the next several questions where we will treat \"Churn\" True/False as a category and analyze that compared to numerical data. We will move through them with a looped funct. \n",
    "\n",
    "We will use mean, median, and standard deviation for a simple summary. urn"
   ]
  },
  {
   "cell_type": "code",
   "execution_count": 64,
   "id": "e67ec883-8f2a-4511-ab60-6f652be4eefa",
   "metadata": {},
   "outputs": [
    {
     "name": "stdout",
     "output_type": "stream",
     "text": [
      "       SatScore                 \n",
      "           mean median       std\n",
      "Churn                           \n",
      "False  3.020814    3.0  1.379647\n",
      "True   3.415430    3.0  1.346218 \n",
      "\n",
      "      CashbackAmount                   \n",
      "                mean  median        std\n",
      "Churn                                  \n",
      "False     180.286847  166.08  50.019129\n",
      "True      159.357285  149.34  37.841377 \n",
      "\n",
      "      KmToWarehouse                 \n",
      "               mean median       std\n",
      "Churn                               \n",
      "False     15.376187   13.0  8.381713\n",
      "True      17.061889   15.0  8.677252 \n",
      "\n",
      "      DaysFromOrder                 \n",
      "               mean median       std\n",
      "Churn                               \n",
      "False      4.797996    4.0  3.645314\n",
      "True       3.231861    2.0  3.497441 \n",
      "\n"
     ]
    }
   ],
   "source": [
    "columns = ['SatScore','CashbackAmount','KmToWarehouse', 'DaysFromOrder'] # numeric columns\n",
    "summary_methods = ['mean','median', 'std'] #chosen summary methods for the .agg() method\n",
    "numeric_df_list = [] #empty list to populate\n",
    "\n",
    "def numeric_col_analysis(column, sum_list):\n",
    "    temp_df = churn[[column,'Churn']]\n",
    "    temp_df[column] = temp_df[column].astype('float64') #guarantee the summary stats can be performed\n",
    "    temp_df.dropna(inplace=True) # Remove null results from the temp df to maintain accurate results\n",
    "    temp_df_stats = temp_df.groupby('Churn').agg({column:sum_list})\n",
    "    return temp_df_stats\n",
    "\n",
    "for col in columns: \n",
    "    numeric_df_list.append(numeric_col_analysis(col, summary_methods))\n",
    "\n",
    "for df in numeric_df_list: print(df, \"\\n\")"
   ]
  },
  {
   "cell_type": "markdown",
   "id": "9e7fae5f-190e-4f9d-bc5b-8161d89c3fd0",
   "metadata": {},
   "source": [
    "We want to save each of these dataframes to their own variable: "
   ]
  },
  {
   "cell_type": "code",
   "execution_count": 30,
   "id": "9c1dbbf1-27d5-4e4a-a475-9f00a6504523",
   "metadata": {},
   "outputs": [],
   "source": [
    "satscore_df = numeric_df_list[0]\n",
    "cashback_df = numeric_df_list[1]\n",
    "distance_df = numeric_df_list[2]\n",
    "orderdays_df = numeric_df_list[3]"
   ]
  },
  {
   "cell_type": "markdown",
   "id": "f3dbcfc6-bea7-4e20-b599-45f27024cbc1",
   "metadata": {},
   "source": [
    "Verifying success for the above: "
   ]
  },
  {
   "cell_type": "code",
   "execution_count": 35,
   "id": "ddee2540-ab4f-4744-9387-e6cad6a34901",
   "metadata": {},
   "outputs": [
    {
     "name": "stdout",
     "output_type": "stream",
     "text": [
      "       SatScore                 \n",
      "           mean median       std\n",
      "Churn                           \n",
      "False  3.020814    3.0  1.379647\n",
      "True   3.415430    3.0  1.346218 \n",
      "\n",
      "      CashbackAmount                   \n",
      "                mean  median        std\n",
      "Churn                                  \n",
      "False     180.286847  166.08  50.019129\n",
      "True      159.357285  149.34  37.841377 \n",
      "\n",
      "      KmToWarehouse                 \n",
      "               mean median       std\n",
      "Churn                               \n",
      "False     15.376187   13.0  8.381713\n",
      "True      17.061889   15.0  8.677252 \n",
      "\n",
      "      DaysFromOrder                 \n",
      "               mean median       std\n",
      "Churn                               \n",
      "False      4.797996    4.0  3.645314\n",
      "True       3.231861    2.0  3.497441 \n",
      "\n",
      "      ActAgeMonths                 \n",
      "              mean median       std\n",
      "Churn                              \n",
      "False    11.427160   10.0  8.347744\n",
      "True      3.160656    1.0  5.306107 \n",
      "\n"
     ]
    }
   ],
   "source": [
    "print(satscore_df, \"\\n\")\n",
    "print(cashback_df, \"\\n\")\n",
    "print(distance_df, \"\\n\")\n",
    "print(orderdays_df, \"\\n\")\n",
    "print(tenure_stats, \"\\n\")"
   ]
  },
  {
   "cell_type": "code",
   "execution_count": 126,
   "id": "d339ecfb-ab2f-4ab2-a2ad-bb1b3010cbd4",
   "metadata": {},
   "outputs": [
    {
     "name": "stdout",
     "output_type": "stream",
     "text": [
      "MultiIndex([('SatScore',   'mean'),\n",
      "            ('SatScore', 'median'),\n",
      "            ('SatScore',    'std')],\n",
      "           )\n",
      "3.4154302670623147\n"
     ]
    }
   ],
   "source": [
    "#How to access multi-level variables:\n",
    "print(satscore_df.columns)\n",
    "sat_true_mean = satscore_df[('SatScore',   'mean')][1]\n",
    "print(sat_true_mean)"
   ]
  },
  {
   "cell_type": "markdown",
   "id": "942bef87-eb36-4553-b382-4edb23caf3ef",
   "metadata": {},
   "source": [
    "The difference between stay (churn = False) vs leave (churn = True) between our variables:"
   ]
  },
  {
   "cell_type": "code",
   "execution_count": 178,
   "id": "313c24dd-5439-43a1-b93f-269e00accb0e",
   "metadata": {},
   "outputs": [
    {
     "name": "stdout",
     "output_type": "stream",
     "text": [
      "For SatScore, the average percent difference between churned vs not churned accounts is 13.06%\n",
      "and the absolute difference is 0.39 points (Churn=yes perspective).\n",
      "\n",
      "For CashbackAmount, the average percent difference between churned vs not churned accounts is -11.61%\n",
      "and the absolute difference is -20.93 dollars (Churn=yes perspective).\n",
      "\n",
      "For KmToWarehouse, the average percent difference between churned vs not churned accounts is 10.96%\n",
      "and the absolute difference is 1.69 km (Churn=yes perspective).\n",
      "\n",
      "For DaysFromOrder, the average percent difference between churned vs not churned accounts is -32.64%\n",
      "and the absolute difference is -1.57 days (Churn=yes perspective).\n",
      "\n",
      "For ActAgeMonths, the average percent difference between churned vs not churned accounts is -72.34%\n",
      "and the absolute difference is -8.27 months (Churn=yes perspective).\n",
      "\n"
     ]
    }
   ],
   "source": [
    "#single-example template:\n",
    "#sat_avg_diff_pct = round(((satscore_df[('SatScore',   'mean')][1]) - (satscore_df[('SatScore',   'mean')][0]) ) *100,2) # (true-false)/false * 100\n",
    "\n",
    "variables = [('SatScore',satscore_df,'points'),('CashbackAmount',cashback_df,'dollars'),('KmToWarehouse',distance_df,'km'),('DaysFromOrder',orderdays_df,'days'),('ActAgeMonths',tenure_stats,'months')]\n",
    "\n",
    "def calc_avg_diff_pct(variable, df): \n",
    "    return round(((df[(variable,   'mean')][1]) - (df[(variable,   'mean')][0]) )/(df[(variable,   'mean')][0]) *100,2)\n",
    "\n",
    "def calc_avg_diff(variable, df): \n",
    "    return round(((df[(variable,   'mean')][1]) - (df[(variable,   'mean')][0]) ),2)\n",
    "\n",
    "avg_diff_list = []\n",
    "abs_diff_list = []\n",
    "\n",
    "for var in variables:\n",
    "    var_name = var[0] \n",
    "    temp_df = var[1]\n",
    "    avg_diff_list.append(calc_avg_diff_pct(var_name, temp_df))\n",
    "    abs_diff_list.append(calc_avg_diff(var_name, temp_df))\n",
    "    \n",
    "for x in range(len(avg_diff_list)): \n",
    "    print(\"For {V}, the average percent difference between churned vs not churned accounts is {p}%\".format(V = variables[x][0], p = avg_diff_list[x]))\n",
    "    print(\"and the absolute difference is {d} {u} (Churn=yes perspective).\".format(d=abs_diff_list[x], u = variables[x][2]))\n",
    "    print(\"\")\n",
    "\n"
   ]
  },
  {
   "cell_type": "markdown",
   "id": "995f651a-719e-46b8-a771-a2109a01e9de",
   "metadata": {},
   "source": [
    "**Numerical Summary:**\n",
    "\n",
    "Surprisingly, the average churned customer has a nearly identical satisfaction score to the average non-churned customer. They received slightly fewer dollars back from the program in the month they cancelled their account - 11% or $20 less. They live slightly further from the warehouse than a non-churned customer, but this difference only amounts to 1.7km, which should not impact delivery times. They ordered, on average, 1.5 days more recently than their non-churned peers. \n",
    "\n",
    "For satisfaction, cashback, and distance, the differences between churned and non-churned customers is relatively small. The relative days from last order between the two groups is more significant (33% fewer for churned customers), however, the absolute difference of 1.5 days is negligible. \n",
    "\n",
    "The age of an account is a significant predictor of churn. A churned account is, on average, 72% newer or 8 months newer than a non-churned account. The average loyal customer has been with the company 11 months, while the average churned account is 3 months old. If customers remain with this service more than 3 months, they are likely to stay. \n",
    "\n",
    "**Recommendations:**\n",
    "\n",
    "We recommend offering regular incentives to customers within the first three months of owning the account. Cash discounts totalling at least the $20 average difference between churned and loyal accounts.\n"
   ]
  },
  {
   "cell_type": "markdown",
   "id": "01dfc81f-8443-40b3-a795-17a6ca9a46ef",
   "metadata": {},
   "source": [
    "Cleanup: now that we have these variables, we can empty the lists of dataframes: "
   ]
  },
  {
   "cell_type": "code",
   "execution_count": 38,
   "id": "ce1ec59f-192f-499c-9797-c84b73c31c6a",
   "metadata": {},
   "outputs": [
    {
     "name": "stdout",
     "output_type": "stream",
     "text": [
      "[]\n"
     ]
    }
   ],
   "source": [
    "numeric_df_list.clear()\n",
    "\n",
    "print(numeric_df_list)"
   ]
  },
  {
   "cell_type": "markdown",
   "id": "1593c54c-ca38-4a32-a68e-b6995eb0a4fa",
   "metadata": {},
   "source": [
    "### Categorical Data Questions:"
   ]
  },
  {
   "cell_type": "markdown",
   "id": "a9450650-e233-4c11-97a7-fa3d88963cda",
   "metadata": {},
   "source": [
    "6. What is the % churn based on marital status category?\r\n",
    "7. What is the % churn based on preferred order category\n",
    "\n",
    "These we will look at slightly differently. For boolean data, because \"True\" = 1, the mean is the % of \"True\" responses, so, in our case, the % of churn for each category for each variable. ?"
   ]
  },
  {
   "cell_type": "code",
   "execution_count": 94,
   "id": "62ec9a57-821f-4bdf-a6cc-664ac9d4c58f",
   "metadata": {},
   "outputs": [
    {
     "name": "stdout",
     "output_type": "stream",
     "text": [
      "              Churn                      var_type\n",
      "              count  sum      mean               \n",
      "MaritalStatus                                    \n",
      "Divorced        576   89  0.154514  MaritalStatus\n",
      "Married        2055  230  0.111922  MaritalStatus\n",
      "Single         1310  355  0.270992  MaritalStatus\n",
      "                   Churn                         var_type\n",
      "                   count  sum      mean                  \n",
      "PreferedOrderCat                                         \n",
      "Fashion              585   94  0.160684  PreferedOrderCat\n",
      "Grocery              273   12  0.043956  PreferedOrderCat\n",
      "Laptop & Accessory  1458  142  0.097394  PreferedOrderCat\n",
      "Mobile               559  159  0.284436  PreferedOrderCat\n",
      "Mobile Phone         887  255  0.287486  PreferedOrderCat\n",
      "Others               179   12  0.067039  PreferedOrderCat\n"
     ]
    }
   ],
   "source": [
    "columns_cat = ['MaritalStatus','PreferedOrderCat']\n",
    "cat_summary_methods = ['count','sum','mean'] #chosen summary methods for the .agg() method\n",
    "cat_df_list = []\n",
    "\n",
    "def categorical_col_analysis(column, sum_methods):\n",
    "    temp_df = churn[[column,'Churn']]\n",
    "    temp_df[column] = temp_df[column].astype('category')\n",
    "    temp_df.dropna(inplace=True)\n",
    "    temp_df_stats = temp_df.groupby(column).agg({'Churn':sum_methods})\n",
    "    temp_df_stats['var_type'] = str(column)\n",
    "    return temp_df_stats\n",
    "\n",
    "for col in columns_cat: \n",
    "    cat_df_list.append(categorical_col_analysis(col, cat_summary_methods))\n",
    "\n",
    "marital_df = cat_df_list[0]\n",
    "order_df = cat_df_list[1]\n",
    "\n",
    "print(marital_df)\n",
    "print(order_df)\n",
    "    "
   ]
  },
  {
   "cell_type": "markdown",
   "id": "e198e8bd-50e5-4f68-9060-74b8f5b35f0c",
   "metadata": {},
   "source": [
    "Experimenting with concatenating results: "
   ]
  },
  {
   "cell_type": "code",
   "execution_count": 104,
   "id": "3b835592-e8de-4971-ba8a-fff75388eb50",
   "metadata": {},
   "outputs": [
    {
     "name": "stdout",
     "output_type": "stream",
     "text": [
      "                   Churn                         var_type\n",
      "                   count  sum      mean                  \n",
      "Fashion              585   94  0.160684  PreferedOrderCat\n",
      "Grocery              273   12  0.043956  PreferedOrderCat\n",
      "Laptop & Accessory  1458  142  0.097394  PreferedOrderCat\n",
      "Mobile               559  159  0.284436  PreferedOrderCat\n",
      "Mobile Phone         887  255  0.287486  PreferedOrderCat\n",
      "Others               179   12  0.067039  PreferedOrderCat\n",
      "Divorced             576   89  0.154514     MaritalStatus\n",
      "Married             2055  230  0.111922     MaritalStatus\n",
      "Single              1310  355  0.270992     MaritalStatus\n",
      "~\n",
      "('Churn', 'count')\n",
      "('Churn', 'sum')\n",
      "('Churn', 'mean')\n",
      "('var_type', '')\n"
     ]
    }
   ],
   "source": [
    "churn_categorical = pd.concat([order_df, marital_df])\n",
    "print(churn_categorical)\n",
    "print(\"~\")\n",
    "for x in churn_categorical.columns: print(x) #Just wanted to show multi-index nature of results"
   ]
  },
  {
   "cell_type": "code",
   "execution_count": 102,
   "id": "2a5ffcf0-7f41-4536-839c-45c551777cda",
   "metadata": {},
   "outputs": [
    {
     "name": "stdout",
     "output_type": "stream",
     "text": [
      "0.1545138888888889  - Divorced        576   89  0.154514\n",
      "0.11192214111922141  - Married        2055  230  0.111922\n",
      "0.27099236641221375  - Single         1310  355  0.270992\n"
     ]
    }
   ],
   "source": [
    "# Sanity check on mean = % for boolean: marital status, sum (total \"True\" churn) / count (total in category)\n",
    "print(89/576, \" - Divorced        576   89  0.154514\")\n",
    "print(230/2055, \" - Married        2055  230  0.111922\")\n",
    "print(355/1310, \" - Single         1310  355  0.270992\")"
   ]
  },
  {
   "cell_type": "code",
   "execution_count": 194,
   "id": "633f1aee-4378-42f2-92d0-861de8821be3",
   "metadata": {},
   "outputs": [
    {
     "name": "stdout",
     "output_type": "stream",
     "text": [
      "0.5214412585638163\n"
     ]
    }
   ],
   "source": [
    "# What % of our customers are currently married?\n",
    "print(2055 / 3941)"
   ]
  },
  {
   "cell_type": "markdown",
   "id": "5342e633-7dbc-4dad-9110-53037db352e1",
   "metadata": {},
   "source": [
    "**Categorical Summary:**"
   ]
  },
  {
   "cell_type": "markdown",
   "id": "9c8d27ac-dc55-402b-a269-4087a89b4f6e",
   "metadata": {},
   "source": [
    "Regarding preferred or most common account order category, the churn % for Grocery, Laptop & Accessory, and misc. other are relatively low, with grocery topping out at 96% loyalty. Fashion shows slightly higher churn at 16%, while the mobile and mobile phone departments show the highest churn at over 28% each. This could point to a disatisfaction with the mobile and phone product lines, or, the fact that these item categories are not everyday purchases, so customers sign up for an account long enough to buy what they need, then cancel. \n",
    "\n",
    "There is little difference between churn rate for divorced or married customers, but the churn rate for single customers is over 27%. It may be that our product is not appealing to this demographic, or, that this is just a reflection of the fact that single customers are more likely to be younger, with less room in their budget for discretionary spending.  \n",
    "\n",
    "**Recommendations:**\n",
    "\n",
    "We may decrease churn by cross-promoting our grocery and/or laptop accesory product lines beside mobile or phone products. It may be that some percent of our customers are unaware of the variety of our offerings. We could offer incentives in the form of discounts or promotional rates for grocery items to first-time mobile of phone customers. \n",
    "\n",
    "We could craft parallel targeted marketing campaigns, one to lean into our family-centric value to capitalize on our strength with the 52% of our customers which are married. The other could appeal to younger, unattached customers who may need a different story to embrace the value of staying with our company. \n",
    "\n"
   ]
  },
  {
   "cell_type": "markdown",
   "id": "bf9c06ae-eead-4075-b205-801473c18c0d",
   "metadata": {},
   "source": [
    "##Project Discussion: Next Steps\n",
    "\n",
    "If I were to continue with this project, I would look into: \n",
    "\n",
    "- Significance. There are other statistical functions in other libraries which can set up hypothetical tests to determine if our results differ significantly from what we would expect.\n",
    "\n",
    "- Visualization. Before presenting results, it would be best to create graphs to make findings stand out. "
   ]
  },
  {
   "cell_type": "code",
   "execution_count": null,
   "id": "9e40747f-5118-486f-bcf5-c56c249f3ca2",
   "metadata": {},
   "outputs": [],
   "source": []
  }
 ],
 "metadata": {
  "kernelspec": {
   "display_name": "Python 3 (ipykernel)",
   "language": "python",
   "name": "python3"
  },
  "language_info": {
   "codemirror_mode": {
    "name": "ipython",
    "version": 3
   },
   "file_extension": ".py",
   "mimetype": "text/x-python",
   "name": "python",
   "nbconvert_exporter": "python",
   "pygments_lexer": "ipython3",
   "version": "3.11.7"
  }
 },
 "nbformat": 4,
 "nbformat_minor": 5
}
